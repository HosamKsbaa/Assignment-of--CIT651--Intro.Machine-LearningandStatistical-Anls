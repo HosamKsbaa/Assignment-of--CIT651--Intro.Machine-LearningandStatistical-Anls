{
 "cells": [
  {
   "attachments": {},
   "cell_type": "markdown",
   "metadata": {},
   "source": [
    "## Name: Hosam Ksba\n",
    "## ID: 221002006"
   ]
  },
  {
   "cell_type": "code",
   "execution_count": 18,
   "metadata": {
    "collapsed": true
   },
   "outputs": [],
   "source": [
    "import numpy as np"
   ]
  },
  {
   "cell_type": "code",
   "execution_count": null,
   "metadata": {},
   "outputs": [],
   "source": []
  },
  {
   "cell_type": "markdown",
   "metadata": {},
   "source": [
    "# Problem One"
   ]
  },
  {
   "cell_type": "code",
   "execution_count": 21,
   "metadata": {},
   "outputs": [],
   "source": [
    "import matplotlib.pyplot as plt\n",
    "\n",
    "def plot_boxplot(Data):\n",
    "    \"\"\"\n",
    "    This function takes an array and plots a boxplot of the data using matplotlib.\n",
    "    \"\"\"\n",
    "    fig, ax = plt.subplots()\n",
    "    ax.boxplot(Data)\n",
    "    ax.set_title('Boxplot')\n",
    "    ax.set_xlabel('Data')\n",
    "    ax.set_ylabel('Values')\n",
    "    plt.show()\n"
   ]
  },
  {
   "cell_type": "code",
   "execution_count": null,
   "metadata": {},
   "outputs": [],
   "source": []
  },
  {
   "cell_type": "code",
   "execution_count": 16,
   "metadata": {
    "collapsed": true
   },
   "outputs": [],
   "source": [
    "import numpy as np\n",
    "\n",
    "def boxplot(Data):\n",
    "    \"\"\"\n",
    "    This function takes an array, and returns the values of quartiles (q1, q2, q3), the inter-quartile range (q3 - q1),\n",
    "    the outlier points, and the extreme outlier points.\n",
    "    Output: q1, q2, q3, iqr, outliers_vector, extreme_outliers_vector\n",
    "    \"\"\"\n",
    "    # Step 1\n",
    "    sorted_data = np.sort(Data)\n",
    "    \n",
    "    # Step 2\n",
    "    q2 = np.median(sorted_data)\n",
    "    \n",
    "    # Step 3\n",
    "    if len(sorted_data) % 2 == 0:\n",
    "        lower_half = sorted_data[:int(len(sorted_data)/2)]\n",
    "        upper_half = sorted_data[int(len(sorted_data)/2):]\n",
    "    else:\n",
    "        lower_half = sorted_data[:int(len(sorted_data)/2)]\n",
    "        upper_half = sorted_data[int(len(sorted_data)/2)+1:]\n",
    "    \n",
    "    # Step 4\n",
    "    q1 = np.median(lower_half)\n",
    "    q3 = np.median(upper_half)\n",
    "    \n",
    "    # Step 5\n",
    "    IQR = q3 - q1\n",
    "    \n",
    "    # Step 6\n",
    "    outliers = [x for x in sorted_data if x < q1 - 1.5*IQR or x > q3 + 1.5*IQR]\n",
    "    \n",
    "    # Step 7\n",
    "    Extrem_Outliers = [x for x in sorted_data if x < q1 - 3*IQR or x > q3 + 3*IQR]\n",
    "    \n",
    "    # Return the boxplot values\n",
    "    return q1,q2,q3,IQR,outliers,Extrem_Outliers\n"
   ]
  },
  {
   "cell_type": "code",
   "execution_count": 22,
   "metadata": {},
   "outputs": [
    {
     "name": "stdout",
     "output_type": "stream",
     "text": [
      "Problem 1\n"
     ]
    },
    {
     "data": {
      "image/png": "[encoded data removed]",
      "text/plain": [
       "<Figure size 640x480 with 1 Axes>"
      ]
     },
     "metadata": {},
     "output_type": "display_data"
    },
    {
     "name": "stdout",
     "output_type": "stream",
     "text": [
      "First Quartile:  86.5805\n",
      "Second Quartile:  99.8985\n",
      "Third Quartile:  113.47\n",
      "Inter-quartile Range:  26.889499999999998\n",
      "No. of Outliers:  696\n",
      "No. of Extreme Outliers:  0\n",
      "Outliers Vector:  [11.328, 12.29, 13.531, 17.794, 20.198, 20.361, 22.758, 24.343, 24.725, 24.956, 24.982, 25.326, 25.362, 26.098, 26.544, 27.418, 27.856, 28.093, 29.066, 29.215, 29.514, 29.8, 30.189, 30.316, 30.516, 30.522, 31.001, 31.045, 31.308, 31.33, 31.422, 31.487, 31.575, 31.769, 31.869, 31.895, 31.964, 32.043, 32.448, 32.623, 32.723, 32.985, 33.18, 33.238, 33.383, 33.676, 33.856, 33.896, 33.994, 34.354, 34.373, 34.448, 34.511, 34.565, 34.772, 35.055, 35.108, 35.153, 35.277, 35.282, 35.294, 35.317, 35.37, 35.402, 35.433, 35.624, 35.871, 35.899, 35.905, 36.03, 36.073, 36.609, 36.617, 36.625, 36.649, 36.671, 36.863, 36.871, 36.872, 36.921, 36.96, 37.011, 37.122, 37.259, 37.259, 37.267, 37.389, 37.456, 37.461, 37.478, 37.504, 37.557, 37.591, 37.719, 37.751, 37.752, 37.766, 37.86, 37.893, 37.906, 37.933, 38.116, 38.132, 38.165, 38.219, 38.259, 38.267, 38.27, 38.294, 38.305, 38.351, 38.403, 38.41, 38.542, 38.634, 38.656, 38.673, 38.801, 38.9, 39.189, 39.194, 39.226, 39.335, 39.343, 39.431, 39.45, 39.586, 39.682, 39.902, 39.91, 39.946, 39.96, 39.99, 40.045, 40.066, 40.163, 40.23, 40.244, 40.264, 40.291, 40.306, 40.361, 40.379, 40.443, 40.503, 40.531, 40.551, 40.618, 40.621, 40.639, 40.672, 40.693, 40.719, 40.761, 40.812, 40.826, 40.99, 41.034, 41.036, 41.055, 41.109, 41.143, 41.152, 41.18, 41.193, 41.256, 41.308, 41.339, 41.352, 41.394, 41.42, 41.5, 41.553, 41.562, 41.566, 41.591, 41.629, 41.643, 41.649, 41.649, 41.651, 41.666, 41.672, 41.718, 41.75, 41.753, 41.782, 41.803, 41.823, 41.829, 41.94, 41.949, 41.979, 42.008, 42.009, 42.032, 42.047, 42.101, 42.152, 42.2, 42.216, 42.225, 42.229, 42.242, 42.246, 42.251, 42.253, 42.27, 42.329, 42.358, 42.424, 42.492, 42.548, 42.584, 42.593, 42.598, 42.605, 42.624, 42.655, 42.662, 42.699, 42.709, 42.745, 42.748, 42.782, 42.829, 42.854, 42.884, 42.887, 42.913, 43.01, 43.033, 43.096, 43.23, 43.248, 43.364, 43.394, 43.402, 43.403, 43.458, 43.508, 43.523, 43.546, 43.551, 43.554, 43.593, 43.626, 43.651, 43.669, 43.681, 43.683, 43.683, 43.709, 43.709, 43.734, 43.765, 43.767, 43.798, 43.827, 43.881, 43.886, 43.887, 43.917, 43.918, 43.947, 43.967, 43.985, 43.985, 44.026, 44.038, 44.05, 44.075, 44.078, 44.089, 44.124, 44.16, 44.168, 44.188, 44.193, 44.204, 44.208, 44.26, 44.311, 44.319, 44.338, 44.345, 44.349, 44.379, 44.381, 44.484, 44.492, 44.506, 44.516, 44.532, 44.567, 44.578, 44.612, 44.618, 44.641, 44.665, 44.666, 44.669, 44.755, 44.77, 44.795, 44.806, 44.809, 44.85, 44.907, 44.944, 44.987, 44.99, 44.999, 44.999, 45.071, 45.106, 45.112, 45.125, 45.15, 45.171, 45.209, 45.245, 45.275, 45.283, 45.321, 45.351, 45.384, 45.42, 45.425, 45.449, 45.487, 45.499, 45.507, 45.56, 45.57, 45.595, 45.625, 45.628, 45.629, 45.647, 45.651, 45.665, 45.709, 45.717, 45.758, 45.79, 45.792, 45.794, 45.819, 45.866, 45.899, 45.907, 45.976, 45.983, 45.99, 46.031, 46.053, 46.1, 46.107, 46.123, 46.182, 46.186, 46.188, 46.198, 46.224, 46.232, 46.236, 153.81, 153.87, 153.9, 153.92, 153.96, 154.0, 154.01, 154.03, 154.03, 154.07, 154.14, 154.15, 154.17, 154.19, 154.21, 154.22, 154.23, 154.23, 154.26, 154.27, 154.32, 154.32, 154.33, 154.33, 154.37, 154.41, 154.41, 154.43, 154.44, 154.44, 154.46, 154.47, 154.5, 154.53, 154.57, 154.58, 154.61, 154.62, 154.62, 154.66, 154.66, 154.7, 154.72, 154.72, 154.73, 154.74, 154.76, 154.84, 154.85, 154.93, 154.98, 154.99, 155.01, 155.02, 155.07, 155.1, 155.13, 155.16, 155.19, 155.19, 155.24, 155.24, 155.26, 155.27, 155.3, 155.33, 155.33, 155.36, 155.37, 155.38, 155.41, 155.45, 155.51, 155.58, 155.59, 155.62, 155.62, 155.64, 155.64, 155.7, 155.8, 155.83, 155.91, 155.91, 156.05, 156.08, 156.09, 156.15, 156.16, 156.19, 156.19, 156.26, 156.3, 156.31, 156.33, 156.36, 156.36, 156.38, 156.39, 156.4, 156.4, 156.47, 156.48, 156.49, 156.57, 156.6, 156.74, 156.77, 156.82, 156.82, 156.84, 156.89, 156.91, 156.92, 157.01, 157.01, 157.03, 157.07, 157.08, 157.12, 157.12, 157.13, 157.17, 157.17, 157.18, 157.23, 157.25, 157.26, 157.33, 157.34, 157.37, 157.37, 157.37, 157.44, 157.44, 157.51, 157.56, 157.57, 157.58, 157.61, 157.61, 157.65, 157.66, 157.69, 157.74, 157.76, 157.78, 157.84, 157.86, 157.91, 157.95, 157.95, 157.96, 157.98, 158.0, 158.0, 158.02, 158.03, 158.11, 158.12, 158.15, 158.17, 158.18, 158.22, 158.24, 158.3, 158.43, 158.43, 158.44, 158.45, 158.49, 158.5, 158.53, 158.54, 158.6, 158.63, 158.73, 158.74, 158.81, 158.82, 158.84, 158.91, 158.92, 158.99, 159.01, 159.05, 159.1, 159.11, 159.17, 159.18, 159.2, 159.22, 159.23, 159.24, 159.3, 159.39, 159.44, 159.45, 159.57, 159.61, 159.61, 159.66, 159.7, 159.76, 159.8, 159.81, 159.86, 159.88, 159.88, 159.89, 159.95, 159.98, 159.99, 160.07, 160.11, 160.16, 160.17, 160.26, 160.29, 160.38, 160.41, 160.43, 160.45, 160.49, 160.51, 160.6, 160.63, 160.65, 160.8, 160.81, 160.9, 160.96, 161.01, 161.1, 161.13, 161.18, 161.24, 161.48, 161.49, 161.59, 161.65, 161.74, 161.74, 161.76, 161.78, 161.78, 161.78, 161.9, 162.05, 162.13, 162.17, 162.24, 162.25, 162.29, 162.34, 162.38, 162.44, 162.7, 162.79, 162.9, 162.93, 162.97, 163.0, 163.01, 163.06, 163.17, 163.67, 163.88, 164.18, 164.47, 164.6, 164.69, 164.78, 164.83, 164.93, 165.21, 165.33, 165.41, 165.6, 165.64, 165.97, 165.98, 166.24, 166.35, 166.49, 166.67, 166.76, 166.83, 167.08, 167.14, 167.19, 167.27, 167.85, 167.96, 167.98, 168.01, 168.56, 168.6, 169.34, 169.74, 169.92, 169.93, 169.93, 169.96, 170.01, 170.23, 170.35, 170.55, 171.26, 171.53, 171.63, 171.77, 171.84, 172.62, 173.54, 175.36, 175.57, 175.66, 177.93, 177.99, 178.84, 178.87, 180.35, 180.45, 184.78, 186.19, 186.8, 186.81, 188.69]\n",
      "Extreme Outliers Vector:  []\n"
     ]
    }
   ],
   "source": [
    "print(\"Problem 1\")\n",
    "x = np.loadtxt('Data.txt')\n",
    "plot_boxplot(x)\n",
    "\n",
    "q1, q2, q3, IQR, outliers, extreme_outliers = boxplot(x)\n",
    "print(\"First Quartile: \", q1)\n",
    "print(\"Second Quartile: \", q2)\n",
    "print(\"Third Quartile: \", q3)\n",
    "print(\"Inter-quartile Range: \", IQR)\n",
    "print(\"No. of Outliers: \", len(outliers))\n",
    "print(\"No. of Extreme Outliers: \", len(extreme_outliers))\n",
    "print(\"Outliers Vector: \", outliers)\n",
    "print(\"Extreme Outliers Vector: \", extreme_outliers)\n"
   ]
  },
  {
   "cell_type": "markdown",
   "metadata": {},
   "source": [
    " <font size= 3 color=red>Important Note: Please Don't use numpy quantile method in evaluating q1,q2, and q3. \n",
    "    You can only check your answers with it.</font>"
   ]
  },
  {
   "cell_type": "code",
   "execution_count": null,
   "metadata": {},
   "outputs": [],
   "source": []
  }
 ],
 "metadata": {
  "kernelspec": {
   "display_name": "Python 3",
   "language": "python",
   "name": "python3"
  },
  "language_info": {
   "codemirror_mode": {
    "name": "ipython",
    "version": 3
   },
   "file_extension": ".py",
   "mimetype": "text/x-python",
   "name": "python",
   "nbconvert_exporter": "python",
   "pygments_lexer": "ipython3",
   "version": "3.10.7"
  }
 },
 "nbformat": 4,
 "nbformat_minor": 2
}
